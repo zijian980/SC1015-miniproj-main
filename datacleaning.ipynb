{
 "cells": [
  {
   "cell_type": "markdown",
   "id": "eb3ea576-8bb5-40bd-b2e1-43bb04ca04a1",
   "metadata": {},
   "source": [
    "# Data Preprocessing and Feature Selection\n",
    "### Objective:\n",
    "\n",
    "Perform data preprocessing tasks and select relevant features for further analysis.\n",
    "### Steps:\n",
    "\n",
    "##### CSV Data Loading:\n",
    "Load the existing movie data from the CSV file into a DataFrame (data).\n",
    "##### Missing Values Check:\n",
    "Print the count of missing values in each column of the DataFrame to identify potential data gaps.\n",
    "##### Feature Selection:\n",
    "Drop unused or irrelevant features to streamline the dataset.\n",
    "Check for the presence of each feature before dropping it to avoid errors.\n",
    "\n",
    "### Code Summary:\n",
    "\n",
    "The code first loads the existing movie data from the CSV file into a DataFrame.\n",
    "It then checks for missing values in the DataFrame and prints the count of missing values for each column.\n",
    "Unused features such as 'backdrop_path', 'poster_path', 'video', 'overview', and 'original_title' are dropped from the DataFrame if they exist.\n",
    "Each feature is dropped individually, and error messages are printed if a feature is not found in the DataFrame."
   ]
  },
  {
   "cell_type": "code",
   "execution_count": 1,
   "id": "d34e22a4-48ca-4ac2-849e-7077b3cd9144",
   "metadata": {},
   "outputs": [
    {
     "name": "stdout",
     "output_type": "stream",
     "text": [
      "Missing values in dataframe:\n",
      "adult                   0\n",
      "genre_ids               0\n",
      "id                      0\n",
      "original_language       0\n",
      "original_title          0\n",
      "popularity              0\n",
      "release_date            0\n",
      "title                   0\n",
      "vote_average            0\n",
      "vote_count              0\n",
      "revenue                 0\n",
      "production_companies    0\n",
      "budget                  0\n",
      "dtype: int64\n",
      "data shape:  (9089, 13)\n",
      "'backdrop_path' column not found.\n",
      "'poster_path' column not found.\n",
      "'video' column not found.\n",
      "'overview' column not found.\n"
     ]
    }
   ],
   "source": [
    "import requests\n",
    "import pandas as pd\n",
    "import json\n",
    "import time\n",
    "\n",
    "\n",
    "# Load the existing CSV file into a DataFrame\n",
    "data = pd.read_csv('movie_data.csv')\n",
    "\n",
    "# Check missing values in data\n",
    "print(\"Missing values in dataframe:\")\n",
    "print(data.isnull().sum())\n",
    "print(\"data shape: \", data.shape)\n",
    "\n",
    "#Drop unused features\n",
    "if 'id' in data.columns:\n",
    "    try:\n",
    "        data = data.drop(columns=['backdrop_path'])\n",
    "    except KeyError:\n",
    "        print(\"'backdrop_path' column not found.\")\n",
    "    try:\n",
    "        data = data.drop(columns=['poster_path'])\n",
    "    except KeyError:\n",
    "        print(\"'poster_path' column not found.\")\n",
    "    try:\n",
    "        data = data.drop(columns=['video'])\n",
    "    except KeyError:\n",
    "        print(\"'video' column not found.\")\n",
    "    try:\n",
    "        data = data.drop(columns=['overview'])\n",
    "    except KeyError:\n",
    "        print(\"'overview' column not found.\")\n",
    "    try:\n",
    "        data = data.drop(columns=['original_title'])\n",
    "    except KeyError:\n",
    "        print(\"'original_title' column not found.\")\n",
    "\n"
   ]
  },
  {
   "cell_type": "code",
   "execution_count": 2,
   "id": "a47f6927-9dc1-4068-ab84-623d99212dc9",
   "metadata": {},
   "outputs": [
    {
     "data": {
      "text/plain": [
       "adult                   9089\n",
       "genre_ids               9089\n",
       "id                      9089\n",
       "original_language       9089\n",
       "popularity              9089\n",
       "release_date            9089\n",
       "title                   9089\n",
       "vote_average            9089\n",
       "vote_count              9089\n",
       "revenue                 9089\n",
       "production_companies    9089\n",
       "budget                  9089\n",
       "dtype: int64"
      ]
     },
     "execution_count": 2,
     "metadata": {},
     "output_type": "execute_result"
    }
   ],
   "source": [
    "data.head()\n",
    "data.count()"
   ]
  },
  {
   "cell_type": "markdown",
   "id": "acd72468-a61f-460b-8015-8de65ea43f4e",
   "metadata": {},
   "source": [
    "# Feature Engineering\n",
    "### bjective:\n",
    "\n",
    "Create new features from existing data to enhance the predictive power of the model or provide additional insights into the dataset.\n",
    "### Steps:\n",
    "\n",
    "##### Release Year Extraction:\n",
    "Extract the release year from the 'release_date' column and create a new feature named 'release_year'.\n",
    "##### Release Month Extraction:\n",
    "Extract the release month from the 'release_date' column and create a new feature named 'release_month'.\n",
    "##### Genre Count:\n",
    "Count the number of genres associated with each movie and create a new feature named 'num_genres'.\n",
    "##### Release Month to Season Mapping:\n",
    "Map each release month to its corresponding season (e.g., January, February, March -> Winter) and create a new feature named 'release_season'.\n",
    "##### Budget-to-Revenue Ratio Calculation:\n",
    "Calculate the budget-to-revenue ratio for each movie and create a new feature named 'budget_revenue_ratio'."
   ]
  },
  {
   "cell_type": "code",
   "execution_count": 3,
   "id": "555ff276-ed75-4448-9ad5-dc9110521eeb",
   "metadata": {},
   "outputs": [],
   "source": [
    "#FEATURE ENGINEERING\n",
    "\n",
    "# Extract release year from release_date\n",
    "data['release_year'] = pd.to_datetime(data['release_date']).dt.year\n",
    "\n",
    "# Extract release month from release_date\n",
    "data['release_month'] = pd.to_datetime(data['release_date']).dt.month\n",
    "\n",
    "# Count the number of genres\n",
    "data['num_genres'] = data['genre_ids'].apply(lambda x: len(x.split(',')))\n",
    "\n",
    "# Map release month to season\n",
    "season_map = {1: 'Winter', 2: 'Winter', 3: 'Spring', 4: 'Spring', 5: 'Spring', 6: 'Summer',\n",
    "              7: 'Summer', 8: 'Summer', 9: 'Fall', 10: 'Fall', 11: 'Fall', 12: 'Winter'}\n",
    "data['release_season'] = data['release_month'].map(season_map)\n",
    "\n",
    "# Calculate budget-to-revenue ratio\n",
    "data['budget_revenue_ratio'] = data['budget'] / data['revenue']"
   ]
  },
  {
   "cell_type": "markdown",
   "id": "cfb51c6e-a4d6-4a84-954f-e07547034f6b",
   "metadata": {},
   "source": [
    "# Segmentation Analysis\n",
    "### Objective:\n",
    "\n",
    "Segment the dataset based on the presence or absence of zero values for revenue and budget to identify patterns or anomalies within the data.\n",
    "### Steps:\n",
    "\n",
    "##### Zero Value Masks Creation:\n",
    "Create boolean masks to identify rows with zero values for revenue and budget.\n",
    "### Segmentation:\n",
    "##### Segment the dataset into four categories:\n",
    "Rows with zero values for revenue (revenue_zero_data).\n",
    "Rows with zero values for budget (budget_zero_data).\n",
    "Rows with non-zero values for both revenue and budget (non_zero_data).\n",
    "Rows with zero values for either revenue or budget (zero_data).\n",
    "##### Segment Sizes Display:\n",
    "Print the sizes of each segment to understand the distribution of data across different categories."
   ]
  },
  {
   "cell_type": "code",
   "execution_count": 4,
   "id": "4a5adb8f-7867-4ab1-8006-b58dca326397",
   "metadata": {},
   "outputs": [
    {
     "name": "stdout",
     "output_type": "stream",
     "text": [
      "Number of rows with zero revenue: 2371\n",
      "Number of rows with zero budget: 2773\n",
      "Number of rows with non-zero revenue and budget: 5745\n",
      "Number of rows with zero revenue or budget: 3344\n"
     ]
    }
   ],
   "source": [
    "#SEGMENTATION\n",
    "\n",
    "# Create masks to identify rows with zero values for revenue and budget\n",
    "revenue_zero_mask = data['revenue'] == 0\n",
    "budget_zero_mask = data['budget'] == 0\n",
    "\n",
    "# Segment the data based on zero values for revenue and budget\n",
    "revenue_zero_data = data[revenue_zero_mask]\n",
    "budget_zero_data = data[budget_zero_mask]\n",
    "non_zero_data = data[~(revenue_zero_mask | budget_zero_mask)]\n",
    "zero_data = data[(revenue_zero_mask | budget_zero_mask)]\n",
    "\n",
    "# Display the sizes of each segment\n",
    "print(\"Number of rows with zero revenue:\", len(revenue_zero_data))\n",
    "print(\"Number of rows with zero budget:\", len(budget_zero_data))\n",
    "print(\"Number of rows with non-zero revenue and budget:\", len(non_zero_data))\n",
    "print(\"Number of rows with zero revenue or budget:\", len(zero_data))"
   ]
  },
  {
   "cell_type": "markdown",
   "id": "f71ba96d-8781-4b59-82b0-dff4ccebf4ea",
   "metadata": {},
   "source": [
    "### The data has been successfully segmented and saved into separate CSV files:\n",
    "\n",
    "##### revenue_zero_data.csv: Contains rows with zero values for revenue.\n",
    "##### budget_zero_data.csv: Contains rows with zero values for budget.\n",
    "##### non_zero_data.csv: Contains rows with non-zero values for both revenue and budget.\n",
    "##### zero_data.csv: Contains rows with zero values for either revenue or budget."
   ]
  },
  {
   "cell_type": "code",
   "execution_count": 5,
   "id": "0939fd54-a419-4a01-b840-3853196dc861",
   "metadata": {},
   "outputs": [],
   "source": [
    "revenue_zero_data.to_csv('revenue_zero_data.csv', index=False)\n",
    "budget_zero_data.to_csv('budget_zero_data.csv', index=False)\n",
    "non_zero_data.to_csv('non_zero_data.csv', index=False)\n",
    "zero_data.to_csv('zero_data.csv', index=False)"
   ]
  },
  {
   "cell_type": "code",
   "execution_count": null,
   "id": "684e468b-0315-4658-a059-ad36cc2c0e84",
   "metadata": {},
   "outputs": [],
   "source": []
  }
 ],
 "metadata": {
  "kernelspec": {
   "display_name": "Python 3 (ipykernel)",
   "language": "python",
   "name": "python3"
  },
  "language_info": {
   "codemirror_mode": {
    "name": "ipython",
    "version": 3
   },
   "file_extension": ".py",
   "mimetype": "text/x-python",
   "name": "python",
   "nbconvert_exporter": "python",
   "pygments_lexer": "ipython3",
   "version": "3.11.7"
  }
 },
 "nbformat": 4,
 "nbformat_minor": 5
}
